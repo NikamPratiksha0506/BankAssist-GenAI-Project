{
 "cells": [
  {
   "cell_type": "code",
   "execution_count": 1,
   "id": "a64255ef",
   "metadata": {},
   "outputs": [
    {
     "name": "stdout",
     "output_type": "stream",
     "text": [
      "\n",
      "🔹 User Query: Show me all clients with portfolio_value > 500000.\n",
      "Gemini API error: module 'google.generativeai' has no attribute 'responses'\n",
      "No SQL generated from Gemini.\n",
      "============================================================\n",
      "\n",
      "🔹 User Query: List all high-risk clients with investments over 200000.\n",
      "Gemini API error: module 'google.generativeai' has no attribute 'responses'\n",
      "No SQL generated from Gemini.\n",
      "============================================================\n",
      "\n",
      "🔹 User Query: Show client names and total investment amount for each client.\n",
      "Gemini API error: module 'google.generativeai' has no attribute 'responses'\n",
      "No SQL generated from Gemini.\n",
      "============================================================\n",
      "\n",
      "🔹 User Query: Show all clients with risk profile 'Low' and portfolio_value between 200000 and 800000.\n",
      "Gemini API error: module 'google.generativeai' has no attribute 'responses'\n",
      "No SQL generated from Gemini.\n",
      "============================================================\n"
     ]
    }
   ],
   "source": [
    "# sql_qa_system.ipynb\n",
    "# --------------------------\n",
    "\n",
    "# 1️⃣ Import required modules\n",
    "from langchain.sql_database import SQLDatabase\n",
    "import sqlite3\n",
    "\n",
    "# 2️⃣ Database path\n",
    "DB_PATH = \"portfolio.db\"\n",
    "\n",
    "# 3️⃣ Connect to your SQLite database\n",
    "db = SQLDatabase.from_uri(f\"sqlite:///{DB_PATH}\")\n",
    "\n",
    "# 4️⃣ Function to execute SQL queries\n",
    "def run_sql(user_query):\n",
    "    \"\"\"\n",
    "    Execute SQL query directly on the database.\n",
    "    Returns the query result or error message.\n",
    "    \"\"\"\n",
    "    try:\n",
    "        result = db.run(user_query)\n",
    "        return result\n",
    "    except Exception as e:\n",
    "        return f\"Error executing SQL: {e}\"\n",
    "\n",
    "# 5️⃣ Sample queries (replace these with your natural language -> SQL)\n",
    "queries = [\n",
    "    \"SELECT * FROM clients WHERE portfolio_value > 500000;\",\n",
    "    \"SELECT * FROM clients WHERE risk_profile='High' AND investments > 200000;\",\n",
    "    \"SELECT name, SUM(investments) AS total_investment FROM clients GROUP BY name;\",\n",
    "    \"SELECT * FROM clients WHERE risk_profile='Low' AND portfolio_value BETWEEN 200000 AND 800000;\"\n",
    "]\n",
    "\n",
    "# 6️⃣ Execute queries and print results\n",
    "for q in queries:\n",
    "    print(f\"\\n🔹 SQL Query: {q}\")\n",
    "    result = run_sql(q)\n",
    "    print(\"Result:\")\n",
    "    print(result)\n",
    "    print(\"=\"*60)\n"
   ]
  },
  {
   "cell_type": "code",
   "execution_count": null,
   "id": "a783979b",
   "metadata": {},
   "outputs": [],
   "source": []
  }
 ],
 "metadata": {
  "kernelspec": {
   "display_name": "Python 3 (env)",
   "language": "python",
   "name": "env"
  },
  "language_info": {
   "codemirror_mode": {
    "name": "ipython",
    "version": 3
   },
   "file_extension": ".py",
   "mimetype": "text/x-python",
   "name": "python",
   "nbconvert_exporter": "python",
   "pygments_lexer": "ipython3",
   "version": "3.13.6"
  }
 },
 "nbformat": 4,
 "nbformat_minor": 5
}
